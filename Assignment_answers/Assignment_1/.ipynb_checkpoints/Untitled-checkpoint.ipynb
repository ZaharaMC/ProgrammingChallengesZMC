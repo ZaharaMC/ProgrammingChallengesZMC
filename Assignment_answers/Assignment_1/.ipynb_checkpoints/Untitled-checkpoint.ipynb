{
 "cells": [
  {
   "cell_type": "code",
   "execution_count": 233,
   "metadata": {},
   "outputs": [
    {
     "data": {
      "text/plain": [
       ":plant"
      ]
     },
     "execution_count": 233,
     "metadata": {},
     "output_type": "execute_result"
    }
   ],
   "source": [
    "class Seed_stock \n",
    "  attr_accessor :seed_stock\n",
    "  attr_accessor :mutant_gene_ID\n",
    "  attr_accessor :last_planted\n",
    "  attr_accessor :storage\n",
    "  attr_accessor :grams_remaining\n",
    "  \n",
    "  \n",
    "  def initialize (params = {})\n",
    "    @seed_stock = params.fetch(:seed_stock, 'X000')\n",
    "    @mutant_gene_ID = params.fetch(:mutant_gene_ID, 'AT0G00000')\n",
    "    @last_planted = params.fetch(:last_planted, \"00/00/0000\")\n",
    "    @storage = params.fetch(:storage, \"cama00\")\n",
    "    @grams_remaining = params.fetch(:grams_remaining, 00)\n",
    "  end\n",
    "\n",
    "  \n",
    "  def plant  \n",
    "    if @grams_remaining > 7  \n",
    "      @grams_remaining -= 7\n",
    "    else\n",
    "      @grams_remaining = 0 \n",
    "      puts \"warning: we have run out of seed stock #{@seed_stock}\"\n",
    "    end\n",
    "  end\n",
    "    \n",
    "\n",
    "end"
   ]
  },
  {
   "cell_type": "code",
   "execution_count": 234,
   "metadata": {},
   "outputs": [
    {
     "data": {
      "text/plain": [
       "#<Seed_stock:0x0000000001d56f28 @seed_stock=\"A334\", @mutant_gene_ID=\"AT1G6912\", @last_planted=\"5/7/2014\", @storage=\"cama2\", @grams_remaining=28>"
      ]
     },
     "execution_count": 234,
     "metadata": {},
     "output_type": "execute_result"
    }
   ],
   "source": [
    "stock1 = Seed_stock.new( \n",
    "  :seed_stock => \"A334\",\n",
    "  :mutant_gene_ID =>\"AT1G6912\",\n",
    "  :last_planted =>\"5/7/2014\",\n",
    "  :storage =>\"cama2\",\n",
    "  :grams_remaining =>28)"
   ]
  },
  {
   "cell_type": "code",
   "execution_count": 235,
   "metadata": {},
   "outputs": [
    {
     "data": {
      "text/plain": [
       "#<Seed_stock:0x00000000023a3660 @seed_stock=\"A348\", @mutant_gene_ID=\"AT436920\", @last_planted=\"3/11/2013\", @storage=\"cama25\", @grams_remaining=12>"
      ]
     },
     "execution_count": 235,
     "metadata": {},
     "output_type": "execute_result"
    }
   ],
   "source": [
    "stock2 = Seed_stock.new( \n",
    "  :seed_stock => \"A348\",\n",
    "  :mutant_gene_ID =>\"AT436920\",\n",
    "  :last_planted =>\"3/11/2013\",\n",
    "  :storage =>\"cama25\",\n",
    "  :grams_remaining =>12)\n"
   ]
  },
  {
   "cell_type": "code",
   "execution_count": 236,
   "metadata": {},
   "outputs": [
    {
     "data": {
      "text/plain": [
       "#<Seed_stock:0x00000000026cc940 @seed_stock=\"B3334\", @mutant_gene_ID=\"AT3G54340\", @last_planted=\"1/12/2014\", @storage=\"cama18\", @grams_remaining=22>"
      ]
     },
     "execution_count": 236,
     "metadata": {},
     "output_type": "execute_result"
    }
   ],
   "source": [
    "stock3 = Seed_stock.new( \n",
    "  :seed_stock => \"B3334\",\n",
    "  :mutant_gene_ID =>\"AT3G54340\",\n",
    "  :last_planted =>\"1/12/2014\",\n",
    "  :storage =>\"cama18\",\n",
    "  :grams_remaining =>22)"
   ]
  },
  {
   "cell_type": "code",
   "execution_count": 237,
   "metadata": {},
   "outputs": [
    {
     "data": {
      "text/plain": [
       "#<Seed_stock:0x00000000027e8d10 @seed_stock=\"A51\", @mutant_gene_ID=\"AT1G30950\", @last_planted=\"9/2/2013\", @storage=\"cama25\", @grams_remaining=5>"
      ]
     },
     "execution_count": 237,
     "metadata": {},
     "output_type": "execute_result"
    }
   ],
   "source": [
    "stock4 = Seed_stock.new( \n",
    "  :seed_stock => \"A51\",\n",
    "  :mutant_gene_ID =>\"AT1G30950\",\n",
    "  :last_planted =>\"9/2/2013\",\n",
    "  :storage =>\"cama25\",\n",
    "  :grams_remaining =>5)"
   ]
  },
  {
   "cell_type": "code",
   "execution_count": 238,
   "metadata": {},
   "outputs": [
    {
     "data": {
      "text/plain": [
       "#<Seed_stock:0x000000000286b878 @seed_stock=\"B52\", @mutant_gene_ID=\"AT5G20240\", @last_planted=\"8/11/2012\", @storage=\"cama16\", @grams_remaining=7>"
      ]
     },
     "execution_count": 238,
     "metadata": {},
     "output_type": "execute_result"
    }
   ],
   "source": [
    "stock5 = Seed_stock.new( \n",
    "  :seed_stock => \"B52\",\n",
    "  :mutant_gene_ID =>\"AT5G20240\",\n",
    "  :last_planted =>\"8/11/2012\",\n",
    "  :storage =>\"cama16\",\n",
    "  :grams_remaining =>7)"
   ]
  },
  {
   "cell_type": "code",
   "execution_count": 239,
   "metadata": {
    "scrolled": true
   },
   "outputs": [
    {
     "name": "stdout",
     "output_type": "stream",
     "text": [
      "A334\n",
      "AT436920\n",
      "1/12/2014\n",
      "cama25\n",
      "7\n"
     ]
    }
   ],
   "source": [
    "puts stock1.seed_stock, stock2.mutant_gene_ID, stock3.last_planted, stock4.storage, stock5.grams_remaining\n"
   ]
  },
  {
   "cell_type": "code",
   "execution_count": 240,
   "metadata": {},
   "outputs": [
    {
     "name": "stdout",
     "output_type": "stream",
     "text": [
      "warning: we have run out of seed stock A51\n"
     ]
    }
   ],
   "source": [
    "stock4.plant"
   ]
  },
  {
   "cell_type": "code",
   "execution_count": 241,
   "metadata": {},
   "outputs": [
    {
     "data": {
      "text/plain": [
       "21"
      ]
     },
     "execution_count": 241,
     "metadata": {},
     "output_type": "execute_result"
    }
   ],
   "source": [
    "stock1.plant"
   ]
  },
  {
   "cell_type": "code",
   "execution_count": null,
   "metadata": {},
   "outputs": [],
   "source": [
    "new_seed_stock = File.new(\"/path/to/file.txt\", \"r\")  # \"r\" or one of the other options"
   ]
  },
  {
   "cell_type": "code",
   "execution_count": null,
   "metadata": {},
   "outputs": [],
   "source": []
  },
  {
   "cell_type": "code",
   "execution_count": null,
   "metadata": {},
   "outputs": [],
   "source": []
  },
  {
   "cell_type": "code",
   "execution_count": null,
   "metadata": {},
   "outputs": [],
   "source": []
  }
 ],
 "metadata": {
  "kernelspec": {
   "display_name": "Ruby 2.6.3",
   "language": "ruby",
   "name": "ruby"
  },
  "language_info": {
   "file_extension": ".rb",
   "mimetype": "application/x-ruby",
   "name": "ruby",
   "version": "2.6.3"
  }
 },
 "nbformat": 4,
 "nbformat_minor": 2
}
